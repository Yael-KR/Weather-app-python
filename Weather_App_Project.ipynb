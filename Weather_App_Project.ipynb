{
  "nbformat": 4,
  "nbformat_minor": 0,
  "metadata": {
    "colab": {
      "provenance": []
    },
    "kernelspec": {
      "name": "python3",
      "display_name": "Python 3"
    },
    "language_info": {
      "name": "python"
    }
  },
  "cells": [
    {
      "cell_type": "code",
      "execution_count": 24,
      "metadata": {
        "id": "I5HotHazsLaw"
      },
      "outputs": [],
      "source": []
    },
    {
      "cell_type": "code",
      "source": [
        "# התקנת הספרייה כדי לשלוח בקשה לקבלת נתונים לAPI\n",
        "# 08 - Git, GitHub, Poetry, HTTP requests\n",
        "!pip install requests\n"
      ],
      "metadata": {
        "colab": {
          "base_uri": "https://localhost:8080/"
        },
        "collapsed": true,
        "id": "EMAheRG_0c0z",
        "outputId": "4b28133f-6403-4e31-e678-40a30a7a55e2"
      },
      "execution_count": 25,
      "outputs": [
        {
          "output_type": "stream",
          "name": "stdout",
          "text": [
            "Requirement already satisfied: requests in /usr/local/lib/python3.11/dist-packages (2.32.3)\n",
            "Requirement already satisfied: charset-normalizer<4,>=2 in /usr/local/lib/python3.11/dist-packages (from requests) (3.4.2)\n",
            "Requirement already satisfied: idna<4,>=2.5 in /usr/local/lib/python3.11/dist-packages (from requests) (3.10)\n",
            "Requirement already satisfied: urllib3<3,>=1.21.1 in /usr/local/lib/python3.11/dist-packages (from requests) (2.5.0)\n",
            "Requirement already satisfied: certifi>=2017.4.17 in /usr/local/lib/python3.11/dist-packages (from requests) (2025.7.14)\n"
          ]
        }
      ]
    },
    {
      "cell_type": "code",
      "source": [
        "# ייבוא ספריה שהותקנה\n",
        "# 08 - Git, GitHub, Poetry, HTTP requests\n",
        "import requests\n",
        "# ייבוא תאריך ושעה\n",
        "# 04 - function_parameters,_keyword_arguments,_datetime_module\n",
        "from datetime import datetime\n",
        "\n",
        "#  שמירת המפתח שהתקבל מהאתר כמשתנה\n",
        "# 08 - BONUS_ REST, HTTP & APIs — History, Philosophy, and Practice\n",
        "API_KEY = \"7f18c94bd1b1789e11380bc490f51bc3\"\n"
      ],
      "metadata": {
        "id": "xgprzkDK0qhw"
      },
      "execution_count": 26,
      "outputs": []
    },
    {
      "cell_type": "code",
      "source": [
        "#המשתמש מזין את שם העיר\n",
        "# 01 - Python basics\n",
        "city=input(\"Enter the city name to check the weather: \")\n",
        "\n",
        "#חיבור לAPI עם שם העיר שהמשתמש הזין ויצירת סטרינג\n",
        "# 08 - BONUS_ REST, HTTP & APIs — History, Philosophy, and Practice\n",
        "url = f\"https://api.openweathermap.org/data/2.5/weather?q={city}&appid={API_KEY}&units=metric\"\n",
        "\n",
        "#יצירת משתנה של התוצאה שנמשכת מהחיבור לאתר לאחר הזנת הפלט של המשתמש\n",
        "# 08 - Git, GitHub, Poetry, HTTP requests\n",
        "weather_info=requests.get(url)\n",
        "\n",
        "#יצירת משתנה שממיר את הנתונים שמתקבלים לפורמט פייתוני\n",
        "#08 - Git, GitHub, Poetry, HTTP requests\n",
        "data = weather_info.json()\n",
        "\n",
        "#בדיקה של הסטטוס אם הוא הצליח\n",
        "#08 - BONUS_ REST, HTTP & APIs — History, Philosophy, and Practice\n",
        "if weather_info.status_code == 200:\n",
        "\n",
        "\n",
        "#04 - function_parameters,_keyword_arguments,_datetime_module\n",
        "#06 - pandas – עבודה עם מילונים (dict), גישה דרך מפתחות\n",
        "#08 – פרק על JSON + הסבר ש־JSON זה כמו dict בפייתון\n",
        "# שליפה של הנתונים הרצויים והכנסה למשתנים כדי שיהיה נוח להשתמש בהמשך\n",
        "  temp = data['main']['temp'] #טמפרטורה\n",
        "  humidity = data['main']['humidity'] #לחות\n",
        "  description = data['weather'][0]['description'] #תיאור תנאי מזא\n",
        "  city_name = data['name'] #שם עיר\n",
        "  feels_like = data['main']['feels_like'] #מרגיש כמו\n",
        "  now = datetime.now() #זמן נוכחי\n",
        "  time_format = now.strftime(\"%d/%m/%Y %H:%M\") #שינוי פורמט\n",
        "\n",
        "\n",
        "\n",
        "#הדפסת הנתונים\n",
        "print(f\"\\n Current weather in {city_name} at {time_format}:\\n\")\n",
        "print(f\" Temperature is {temp}°C\")\n",
        "print(f\" Humidity is {humidity}%\")\n",
        "print(f\" Sky conditions are {description.capitalize()}\")\n",
        "print(f\" So it feels like {feels_like}°C\")\n",
        "\n",
        "#הוספת תנאים והמלצות בהתאם לטמפטורה\n",
        "if temp >= 35:\n",
        "    print(\" It's extremely hot! Stay hydrated and avoid direct sun exposure.\")\n",
        "elif temp >= 30:\n",
        "    print(\" It's hot outside. Use sunscreen and drink plenty of water.\")\n",
        "elif temp <= 0:\n",
        "    print(\" Freezing temperatures! Better to stay indoors if you can.\")\n",
        "elif temp <= 5:\n",
        "    print(\" It's very cold! Wear warm clothes and stay safe.\")\n",
        "\n"
      ],
      "metadata": {
        "colab": {
          "base_uri": "https://localhost:8080/"
        },
        "id": "tzZgjVmj1Bcx",
        "outputId": "7621ef0a-38df-48a8-a934-8a2bf6772a41"
      },
      "execution_count": 27,
      "outputs": [
        {
          "output_type": "stream",
          "name": "stdout",
          "text": [
            "Enter the city name to check the weather: tel aviv\n",
            "\n",
            " Current weather in Tel Aviv at 02/08/2025 09:17:\n",
            "\n",
            " Temperature is 32.02°C\n",
            " Humidity is 47%\n",
            " Sky conditions are Scattered clouds\n",
            " So it feels like 33.71°C\n",
            " It's hot outside. Use sunscreen and drink plenty of water.\n"
          ]
        }
      ]
    }
  ]
}